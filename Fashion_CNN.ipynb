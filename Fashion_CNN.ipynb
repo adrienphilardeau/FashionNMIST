{
  "nbformat": 4,
  "nbformat_minor": 0,
  "metadata": {
    "colab": {
      "name": "Fashion CNN.ipynb",
      "provenance": [],
      "collapsed_sections": [],
      "include_colab_link": true
    },
    "kernelspec": {
      "name": "python3",
      "display_name": "Python 3"
    }
  },
  "cells": [
    {
      "cell_type": "markdown",
      "metadata": {
        "id": "view-in-github",
        "colab_type": "text"
      },
      "source": [
        "<a href=\"https://colab.research.google.com/github/adrienphilardeau/FashionNMIST/blob/master/Fashion_CNN.ipynb\" target=\"_parent\"><img src=\"https://colab.research.google.com/assets/colab-badge.svg\" alt=\"Open In Colab\"/></a>"
      ]
    },
    {
      "cell_type": "code",
      "metadata": {
        "id": "zVo0DBFtb4qx",
        "colab_type": "code",
        "outputId": "fe0bf97d-f908-47e0-e993-9847f0f584e1",
        "colab": {
          "base_uri": "https://localhost:8080/",
          "height": 34
        }
      },
      "source": [
        "#inspired by https://www.kaggle.com/bugraokcu/cnn-with-keras\n",
        "from keras.utils import to_categorical\n",
        "import numpy as np\n",
        "from google.colab import drive\n",
        "import pandas as pd\n",
        "import matplotlib.pyplot as plt\n",
        "import csv\n",
        "import random \n",
        "import keras\n",
        "from keras.models import Sequential\n",
        "from keras.layers import Conv2D, MaxPooling2D, Dense, Flatten, Dropout, Activation\n",
        "from keras.optimizers import Adam\n",
        "from keras.layers.normalization import BatchNormalization\n",
        "from sklearn.model_selection import train_test_split\n",
        "drive.mount('/content/drive')\n"
      ],
      "execution_count": 0,
      "outputs": [
        {
          "output_type": "stream",
          "text": [
            "Drive already mounted at /content/drive; to attempt to forcibly remount, call drive.mount(\"/content/drive\", force_remount=True).\n"
          ],
          "name": "stdout"
        }
      ]
    },
    {
      "cell_type": "code",
      "metadata": {
        "id": "jIFfME8ah9RB",
        "colab_type": "code",
        "outputId": "fd01145c-3811-42bd-875a-afd60f6b1606",
        "colab": {
          "base_uri": "https://localhost:8080/",
          "height": 265
        }
      },
      "source": [
        "def show_image(arr):\n",
        "    two_d = (np.reshape(arr, (28, 28)) * 255).astype(np.uint8)\n",
        "    plt.imshow(two_d, interpolation='nearest')\n",
        "    plt.show()\n",
        "\n",
        "show_image(train_images[0]) # 0 is the index of the training image you want to display"
      ],
      "execution_count": 0,
      "outputs": [
        {
          "output_type": "display_data",
          "data": {
            "image/png": "[encoded data removed]",
            "text/plain": [
              "<Figure size 432x288 with 1 Axes>"
            ]
          },
          "metadata": {
            "tags": []
          }
        }
      ]
    },
    {
      "cell_type": "code",
      "metadata": {
        "id": "CvgUz5o3Ec79",
        "colab_type": "code",
        "colab": {}
      },
      "source": [
        "with open(\"train_labels.csv\") as csv_file:\n",
        "  csv_reader = csv.reader(csv_file)\n",
        "  colnames = next(csv_reader)\n",
        "  train_labels = list(csv_reader)\n",
        "train_labels = np.array(train_labels)"
      ],
      "execution_count": 0,
      "outputs": []
    },
    {
      "cell_type": "code",
      "metadata": {
        "id": "xJvOJWgFFc8l",
        "colab_type": "code",
        "outputId": "f736ddba-1334-4a1c-8aa2-559e9575a0c1",
        "colab": {
          "base_uri": "https://localhost:8080/",
          "height": 1000
        }
      },
      "source": [
        "x_train = np.load(\"train_images.npy\")/255\n",
        "y_train = to_categorical(train_labels[:, 1])\n",
        "\n",
        "x_train, x_test, y_train, y_test = train_test_split(x_train, y_train, test_size = 0.2, random_state = 13)\n",
        "x_train, x_validate, y_train, y_validate = train_test_split(x_train, y_train, test_size = 0.2, random_state = 13)\n",
        "x_train.astype(\"float32\")\n",
        "x_test.astype(\"float32\")\n",
        "x_validate.astype(\"float32\")"
      ],
      "execution_count": 0,
      "outputs": [
        {
          "output_type": "execute_result",
          "data": {
            "text/plain": [
              "array([[[0.28627452, 0.3372549 , 0.37254903, ..., 0.34509805,\n",
              "         0.34509805, 0.3137255 ],\n",
              "        [0.30588236, 0.38039216, 0.2901961 , ..., 0.33333334,\n",
              "         0.3764706 , 0.35686275],\n",
              "        [0.28627452, 0.24705882, 0.29803923, ..., 0.3647059 ,\n",
              "         0.30980393, 0.28235295],\n",
              "        ...,\n",
              "        [0.25490198, 0.40392157, 0.8039216 , ..., 0.34901962,\n",
              "         0.30588236, 0.30588236],\n",
              "        [0.28235295, 0.3254902 , 0.3529412 , ..., 0.28235295,\n",
              "         0.3372549 , 0.27058825],\n",
              "        [0.28627452, 0.28627452, 0.28627452, ..., 0.3019608 ,\n",
              "         0.3019608 , 0.2901961 ]],\n",
              "\n",
              "       [[0.32941177, 0.34901962, 0.24313726, ..., 0.32156864,\n",
              "         0.3529412 , 0.34117648],\n",
              "        [0.38039216, 0.27058825, 0.32941177, ..., 0.33333334,\n",
              "         0.3254902 , 0.32156864],\n",
              "        [0.26666668, 0.34901962, 0.2627451 , ..., 0.38039216,\n",
              "         0.36078432, 0.30588236],\n",
              "        ...,\n",
              "        [0.3254902 , 0.36078432, 0.45882353, ..., 0.36862746,\n",
              "         0.34117648, 0.3372549 ],\n",
              "        [0.3372549 , 0.3372549 , 0.34117648, ..., 0.29803923,\n",
              "         0.34117648, 0.28627452],\n",
              "        [0.3019608 , 0.32941177, 0.30588236, ..., 0.24705882,\n",
              "         0.29411766, 0.3019608 ]],\n",
              "\n",
              "       [[0.40392157, 0.4117647 , 0.36862746, ..., 0.38431373,\n",
              "         0.32156864, 0.3882353 ],\n",
              "        [0.3529412 , 0.38039216, 0.39607844, ..., 0.34901962,\n",
              "         0.29803923, 0.3764706 ],\n",
              "        [0.30980393, 0.37254903, 0.33333334, ..., 0.3529412 ,\n",
              "         0.30588236, 0.4117647 ],\n",
              "        ...,\n",
              "        [0.37254903, 0.34509805, 0.32941177, ..., 0.42352942,\n",
              "         0.28627452, 0.36862746],\n",
              "        [0.3764706 , 0.4       , 0.30980393, ..., 0.7294118 ,\n",
              "         0.3647059 , 0.43137255],\n",
              "        [0.43529412, 0.38431373, 0.37254903, ..., 0.34901962,\n",
              "         0.34509805, 0.3764706 ]],\n",
              "\n",
              "       ...,\n",
              "\n",
              "       [[0.3254902 , 0.31764707, 0.29803923, ..., 0.3254902 ,\n",
              "         0.34117648, 0.36078432],\n",
              "        [0.39215687, 0.3647059 , 0.6901961 , ..., 0.3529412 ,\n",
              "         0.3647059 , 0.28627452],\n",
              "        [0.34901962, 0.30980393, 0.3137255 , ..., 0.3529412 ,\n",
              "         0.34117648, 0.37254903],\n",
              "        ...,\n",
              "        [0.29411766, 0.3372549 , 0.3764706 , ..., 0.38039216,\n",
              "         0.3372549 , 0.34509805],\n",
              "        [0.32941177, 0.3764706 , 0.31764707, ..., 0.31764707,\n",
              "         0.34509805, 0.30980393],\n",
              "        [0.32156864, 0.3529412 , 0.3764706 , ..., 0.41568628,\n",
              "         0.3529412 , 0.35686275]],\n",
              "\n",
              "       [[0.34901962, 0.3019608 , 0.27058825, ..., 0.27058825,\n",
              "         0.29803923, 0.29411766],\n",
              "        [0.3137255 , 0.30588236, 0.28235295, ..., 0.3137255 ,\n",
              "         0.28627452, 0.2901961 ],\n",
              "        [0.3372549 , 0.34901962, 0.29411766, ..., 0.34509805,\n",
              "         0.34117648, 0.3137255 ],\n",
              "        ...,\n",
              "        [0.27058825, 0.37254903, 0.30588236, ..., 0.32156864,\n",
              "         0.2784314 , 0.3372549 ],\n",
              "        [0.29411766, 0.3372549 , 0.34117648, ..., 0.36862746,\n",
              "         0.29803923, 0.3647059 ],\n",
              "        [0.28235295, 0.38039216, 0.36078432, ..., 0.4       ,\n",
              "         0.34509805, 0.29803923]],\n",
              "\n",
              "       [[0.35686275, 0.29803923, 0.3647059 , ..., 0.32156864,\n",
              "         0.3372549 , 0.3764706 ],\n",
              "        [0.3254902 , 0.28235295, 0.31764707, ..., 0.6666667 ,\n",
              "         0.3137255 , 0.30588236],\n",
              "        [0.36862746, 0.28627452, 0.2901961 , ..., 0.32941177,\n",
              "         0.32941177, 0.34901962],\n",
              "        ...,\n",
              "        [0.32156864, 0.30980393, 0.3137255 , ..., 0.35686275,\n",
              "         0.29411766, 0.32156864],\n",
              "        [0.38431373, 0.34117648, 0.35686275, ..., 0.38039216,\n",
              "         0.40392157, 0.36862746],\n",
              "        [0.34117648, 0.3019608 , 0.31764707, ..., 0.3372549 ,\n",
              "         0.33333334, 0.2784314 ]]], dtype=float32)"
            ]
          },
          "metadata": {
            "tags": []
          },
          "execution_count": 161
        }
      ]
    },
    {
      "cell_type": "code",
      "metadata": {
        "id": "tp2a-uWmIxvk",
        "colab_type": "code",
        "outputId": "47a0ff26-8fd7-4b5e-bf08-5976b217b31b",
        "colab": {
          "base_uri": "https://localhost:8080/",
          "height": 68
        }
      },
      "source": [
        "im_rows = 28\n",
        "im_cols = 28\n",
        "batch_size = 512\n",
        "im_shape = (im_rows, im_cols, 1)\n",
        "\n",
        "x_train = x_train.reshape(x_train.shape[0], *im_shape)\n",
        "x_test = x_test.reshape(x_test.shape[0], *im_shape)\n",
        "x_validate = x_validate.reshape(x_validate.shape[0], *im_shape)\n",
        "\n",
        "print(\"x_train shape: {}\".format(x_train.shape))\n",
        "print(\"x_test shape: {}\".format(x_test.shape))\n",
        "print(\"x_validate shape: {}\".format(x_validate.shape))"
      ],
      "execution_count": 0,
      "outputs": [
        {
          "output_type": "stream",
          "text": [
            "x_train shape: (32000, 28, 28, 1)\n",
            "x_test shape: (10000, 28, 28, 1)\n",
            "x_validate shape: (8000, 28, 28, 1)\n"
          ],
          "name": "stdout"
        }
      ]
    },
    {
      "cell_type": "code",
      "metadata": {
        "id": "m2nxe8y-TkgH",
        "colab_type": "code",
        "colab": {}
      },
      "source": [
        "model = Sequential()\n",
        "model.add(Conv2D(32, kernel_size=(3, 3),\n",
        "activation='relu',\n",
        "kernel_initializer='he_normal',\n",
        "input_shape=im_shape))\n",
        "model.add(MaxPooling2D((2, 2)))\n",
        "model.add(Dropout(0.25))\n",
        "model.add(Conv2D(64, (3, 3), activation='relu'))\n",
        "model.add(MaxPooling2D(pool_size=(2, 2)))\n",
        "model.add(Dropout(0.25))\n",
        "model.add(Conv2D(128, (3, 3), activation='relu'))\n",
        "model.add(Dropout(0.4))\n",
        "model.add(Flatten())\n",
        "model.add(Dense(128, activation='relu'))\n",
        "model.add(Dense(10))\n",
        "model.add(Activation(\"softmax\"))"
      ],
      "execution_count": 0,
      "outputs": []
    },
    {
      "cell_type": "code",
      "metadata": {
        "id": "83ABU89PLXGd",
        "colab_type": "code",
        "colab": {}
      },
      "source": [
        "model.compile(loss=keras.losses.categorical_crossentropy,\n",
        "              optimizer=keras.optimizers.Adam(),\n",
        "              metrics=['accuracy'])"
      ],
      "execution_count": 0,
      "outputs": []
    },
    {
      "cell_type": "code",
      "metadata": {
        "id": "IvCiVE7zLtEj",
        "colab_type": "code",
        "colab": {}
      },
      "source": [
        "model.fit(x_train, y_train, batch_size = batch_size, epochs = 10, verbose = 1, validation_data = (x_validate, y_validate))"
      ],
      "execution_count": 0,
      "outputs": []
    },
    {
      "cell_type": "code",
      "metadata": {
        "id": "uTHMJTwyMCYd",
        "colab_type": "code",
        "colab": {}
      },
      "source": [
        "x_test = np.load('test_images.npy').squeeze()\n",
        "x_test = x_test.reshape(len(x_test), *im_shape)\n",
        "y_test = model.predict_classes(x_test)\n",
        "df_test = pd.read_csv('sample_submission.csv')\n",
        "df_test['label'] = y_test\n",
        "df_test.to_csv('SubmissionFinal.csv', index=False)"
      ],
      "execution_count": 0,
      "outputs": []
    }
  ]
}